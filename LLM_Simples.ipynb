{
  "nbformat": 4,
  "nbformat_minor": 0,
  "metadata": {
    "colab": {
      "provenance": [],
      "authorship_tag": "ABX9TyNl0uN4DzWhIZ9PHUHBESZi",
      "include_colab_link": true
    },
    "kernelspec": {
      "name": "python3",
      "display_name": "Python 3"
    },
    "language_info": {
      "name": "python"
    }
  },
  "cells": [
    {
      "cell_type": "markdown",
      "metadata": {
        "id": "view-in-github",
        "colab_type": "text"
      },
      "source": [
        "<a href=\"https://colab.research.google.com/github/Yo1huber/Simple_LLM_Alura/blob/main/LLM_Simples.ipynb\" target=\"_parent\"><img src=\"https://colab.research.google.com/assets/colab-badge.svg\" alt=\"Open In Colab\"/></a>"
      ]
    },
    {
      "cell_type": "code",
      "execution_count": 29,
      "metadata": {
        "id": "sPJv-soVr7y8"
      },
      "outputs": [],
      "source": [
        "!pip install -q -U google-generativeai"
      ]
    },
    {
      "cell_type": "code",
      "source": [
        "# Import the Python SDK\n",
        "import google.generativeai as genai\n",
        "from google.colab import userdata\n",
        "api_key = userdata.get('SECRET_KEY')\n",
        "genai.configure(api_key=api_key)"
      ],
      "metadata": {
        "id": "msfEnpYIsIbE"
      },
      "execution_count": 39,
      "outputs": []
    },
    {
      "cell_type": "markdown",
      "source": [
        "listar os modelos disponiveis"
      ],
      "metadata": {
        "id": "SkuJt5nftJHr"
      }
    },
    {
      "cell_type": "code",
      "source": [
        "for m in genai.list_models():\n",
        "  if 'generateContent' in m.supported_generation_methods:\n",
        "    print(m.name)"
      ],
      "metadata": {
        "colab": {
          "base_uri": "https://localhost:8080/",
          "height": 138
        },
        "id": "s1f4Gofzs9l0",
        "outputId": "dba85904-8d53-473f-f6a2-6470ea1ed5e4"
      },
      "execution_count": null,
      "outputs": [
        {
          "output_type": "stream",
          "name": "stdout",
          "text": [
            "models/gemini-1.0-pro\n",
            "models/gemini-1.0-pro-001\n",
            "models/gemini-1.0-pro-latest\n",
            "models/gemini-1.0-pro-vision-latest\n",
            "models/gemini-1.5-pro-latest\n",
            "models/gemini-pro\n",
            "models/gemini-pro-vision\n"
          ]
        }
      ]
    },
    {
      "cell_type": "markdown",
      "source": [
        "Inicializando o modelo"
      ],
      "metadata": {
        "id": "6a8QRXsExY_L"
      }
    },
    {
      "cell_type": "code",
      "source": [
        "model = genai.GenerativeModel(\"gemini-1.0-pro\")"
      ],
      "metadata": {
        "id": "taeIFMkaxX3H"
      },
      "execution_count": 32,
      "outputs": []
    },
    {
      "cell_type": "code",
      "source": [
        "response = model.generate_content(\"vamos aprender conteudo sobre IA. Me de sugestoes.\")\n",
        "print(response.text)"
      ],
      "metadata": {
        "colab": {
          "base_uri": "https://localhost:8080/",
          "height": 714
        },
        "id": "Vh5jW52y3TsW",
        "outputId": "e9f5726d-6948-4bed-bb57-aabdc934e85b"
      },
      "execution_count": 33,
      "outputs": [
        {
          "output_type": "stream",
          "name": "stdout",
          "text": [
            "**Cursos e programas:**\n",
            "\n",
            "* Curso de Especialização em Inteligência Artificial pela Universidade de Stanford\n",
            "* Mestrado em Ciência da Computação com ênfase em Inteligência Artificial pelo Massachusetts Institute of Technology (MIT)\n",
            "* Doutorado em Ciência da Computação com ênfase em Inteligência Artificial pela Carnegie Mellon University\n",
            "\n",
            "**Livros e recursos online:**\n",
            "\n",
            "* \"Inteligência Artificial: Uma Moderna Abordagem\" por Stuart Russell e Peter Norvig\n",
            "* \"Aprendizado de Máquina pela Prática\" por Sebastian Raschka e Vahid Mirjalili\n",
            "* [IBM Watson](https://www.ibm.com/watson/)\n",
            "* [Google AI](https://ai.google/)\n",
            "* [Amazon Web Services (AWS) AI](https://aws.amazon.com/ai/)\n",
            "\n",
            "**Conferências e eventos:**\n",
            "\n",
            "* Conferência Mundial sobre Inteligência Artificial (AAAI)\n",
            "* Conferência Internacional sobre Aprendizado de Máquina (ICML)\n",
            "* Conferência Internacional sobre Visão Computacional (CVPR)\n",
            "\n",
            "**Organizações e comunidades:**\n",
            "\n",
            "* Association for the Advancement of Artificial Intelligence (AAAI)\n",
            "* IEEE Computational Intelligence Society\n",
            "* OpenAI\n",
            "\n",
            "**Tutoriais e artigos de pesquisa:**\n",
            "\n",
            "* [Introdução à Inteligência Artificial](https://www.coursera.org/learn/ai)\n",
            "* [Aprendizado Profundo para iniciantes](https://www.tensorflow.org/tutorials/keras/deep_learning_beginners)\n",
            "* [Artigos de pesquisa em Inteligência Artificial](https://arxiv.org/list/cs.AI)\n",
            "\n",
            "**Áreas especializadas:**\n",
            "\n",
            "* Aprendizado de máquina\n",
            "* Aprendizado profundo\n",
            "* Visão computacional\n",
            "* Processamento de linguagem natural\n",
            "* Robótica e sistemas autônomos\n"
          ]
        }
      ]
    },
    {
      "cell_type": "code",
      "source": [
        "chat = model.start_chat(history=[])"
      ],
      "metadata": {
        "id": "CyWN4A5m3pMD"
      },
      "execution_count": 34,
      "outputs": []
    },
    {
      "cell_type": "code",
      "source": [
        "prompt = input(\"Digite sua pergunta: \")\n",
        "\n",
        "while prompt != \"fim\":\n",
        "  response = chat.send_message(prompt)\n",
        "  print(\"Resposta: \", response.text, \"\\n\")\n",
        "  prompt = input(\"Digite sua pergunta: \")"
      ],
      "metadata": {
        "colab": {
          "base_uri": "https://localhost:8080/",
          "height": 818
        },
        "id": "eO5NDA9p4I6s",
        "outputId": "1e07c232-a2ff-45b2-dcb1-f97a537d9195"
      },
      "execution_count": 38,
      "outputs": [
        {
          "name": "stdout",
          "output_type": "stream",
          "text": [
            "Digite sua pergunta: capital de mocambique\n",
            "Resposta:  Maputo \n",
            "\n",
            "Digite sua pergunta: comida tipica desse pais\n",
            "Resposta:  **Pratos Típicos de Moçambique:**\n",
            "\n",
            "* **Matapa:** Prato de folhas de mandioca cozidas com caranguejo, camarão ou peixe, temperado com alho, cebola e leite de coco.\n",
            "* **Xima:** Mingau espesso de fubá de milho, geralmente servido como acompanhamento.\n",
            "* **Piri-piri:** Molho picante feito de malaguetas, alho, cebola e suco de limão.\n",
            "* **Frango à Zambeziana:** Frango grelhado ou frito marinado em piri-piri, alho, cebola e outros temperos.\n",
            "* **Feijão-nhemba:** Feijão cozido com arroz, tomate, cebola e outras especiarias.\n",
            "* **Bolinhos de Mandioca:** Bolinhos fritos feitos de mandioca ralada, temperados com sal e pimenta.\n",
            "* **Chambo:** Peixe grelhado ou frito, geralmente servido com arroz ou xima.\n",
            "* **Caril de Camarão:** Camarão cozido em molho de caril com leite de coco, gengibre, alho e cebola.\n",
            "* **Rissóis de Camarão:** Pastelaria frita recheada com camarão, cebola, alho e especiarias.\n",
            "* **Prego de Atum:** Sanduíche feito com atum grelhado ou frito, servido com pão e cebola. \n",
            "\n",
            "Digite sua pergunta: populacao dessa cidade\n",
            "Resposta:  População de **Maputo**, capital de Moçambique:\n",
            "\n",
            "* **1.101.103** (estimativa de 2023)\n",
            "\n",
            "Fonte: World Population Review \n",
            "\n",
            "Digite sua pergunta: nesse pais ja e usada a portabilidade movel?\n",
            "Resposta:  Sim, a portabilidade móvel já é usada em Moçambique.\n",
            "\n",
            "Foi introduzida em 2015 e permite que os usuários de telefonia móvel troquem de operadora mantendo o mesmo número de telefone.\n",
            "\n",
            "As operadoras de telefonia móvel em Moçambique que oferecem portabilidade são:\n",
            "\n",
            "* Vodacom Moçambique\n",
            "* Movitel\n",
            "* Tmcel\n",
            "\n",
            "Para solicitar a portabilidade, os usuários devem entrar em contato com a operadora para a qual desejam migrar. A operadora fornecerá instruções sobre o processo e quaisquer taxas aplicáveis. \n",
            "\n",
            "Digite sua pergunta: fonte\n",
            "Resposta:  Fonte da informação sobre a portabilidade móvel em Moçambique:\n",
            "\n",
            "* Autoridade Reguladora das Comunicações de Moçambique (ARECOM): https://www.arecom.gov.mz/index.php/pt/consumidor/telefonia-movel/portabilidade\n",
            "\n",
            "Esta fonte oficial confirma que a portabilidade móvel foi introduzida em Moçambique em 2015 e fornece informações sobre o processo de solicitação de portabilidade. \n",
            "\n",
            "Digite sua pergunta: fim\n"
          ]
        }
      ]
    }
  ]
}